{
 "cells": [
  {
   "cell_type": "code",
   "execution_count": 2,
   "metadata": {},
   "outputs": [],
   "source": [
    "import pandas as pd\n",
    "import matplotlib.pyplot as plt\n",
    "import seaborn as sns\n",
    "pd.set_option('display.max_columns', None)"
   ]
  },
  {
   "cell_type": "code",
   "execution_count": 3,
   "metadata": {},
   "outputs": [],
   "source": [
    "data = pd.read_csv(\"datasets/hotel_bookings.csv\")"
   ]
  },
  {
   "cell_type": "markdown",
   "metadata": {},
   "source": [
    "# Data Cleaning"
   ]
  },
  {
   "cell_type": "code",
   "execution_count": null,
   "metadata": {},
   "outputs": [],
   "source": [
    "#Filling in missing Values to operate more effectively -> No agent or country means private booking --> id = 0, Country is \"Unknown\"\n",
    "#And Children is simply a numeric 0\n",
    "nan_replacements = {\"children:\": 0.0,\"country\": \"Unknown\", \"agent\": 0, \"company\": 0}\n",
    "data = data.fillna(nan_replacements)\n",
    "\n",
    "#Eliminating meaningless rows with no actual guests\n",
    "zero_guests = list(data.loc[data[\"adults\"]\n",
    "                   + data[\"children\"]\n",
    "                   + data[\"babies\"]==0].index)\n",
    "data.drop(data.index[zero_guests], inplace=True)\n",
    "\n",
    "#Focus of this Analysis is the city hotel\n",
    "city = data[data.hotel == \"City Hotel\"]\n",
    "num_of_rows = len(city.index)"
   ]
  },
  {
   "cell_type": "markdown",
   "metadata": {},
   "source": [
    "# Customer/Market Segmentation"
   ]
  },
  {
   "cell_type": "code",
   "execution_count": 5,
   "metadata": {},
   "outputs": [],
   "source": [
    "#Identifying the number of each occurring customer type\n",
    "adults = city[\"adults\"].sum()\n",
    "children = city[\"children\"].sum()\n",
    "babies = city[\"babies\"].sum()\n",
    "\n",
    "#Average customer constellation per booking\n",
    "avg_cust = (adults/num_of_rows, children/num_of_rows, babies/num_of_rows)\n",
    "\n",
    "#Percentage of Group Bookings\n",
    "per_of_groups = len(city[city[\"customer_type\"] == \"Group\"].index)/num_of_rows\n",
    "#Percentage of Transient Bookings\n",
    "per_of_transients = len(city[city[\"customer_type\"] == \"Transient\"].index)/num_of_rows\n",
    "#Percentage of Contract Bookings\n",
    "per_of_contracts = len(city[city[\"customer_type\"] == \"Contract\"].index)/num_of_rows\n",
    "\n",
    "\n",
    "#Group By Country\n",
    "#First goup the rows in the country column by group and assign them to a variable\n",
    "#Then zip the unique values and the corresponding size of each group into a list of tuples, which will be sorted afterwards by compering on the\n",
    "#snd tuple element => size. To plot the bar chart, the list must be unzipped again to be given as parameters for the plt function.\n",
    "countries = city.groupby(\"country\")\n",
    "countries_unique = countries.country.unique() #Return values are stored as arrays\n",
    "countries_size = countries.size()\n",
    "country_list = list(zip(countries_unique, countries_size))\n",
    "rev_countries = sorted(country_list, key = lambda x: x[1])[::-1] #sorts from min to max, hence a reverse is needed\n",
    "topten_countries_list = rev_countries[0:10]\n",
    "unzipped_countries_list = [[ i for i, j in topten_countries_list ], \n",
    "       [ j for i, j in topten_countries_list ]]\n",
    "(topten_countries_names, topten_countries_sizes) = (unzipped_countries_list[0], unzipped_countries_list[1])\n",
    "\n",
    "#Extracting the names from the array objects\n",
    "def extract_names(names):\n",
    "    res = []\n",
    "    for e in names:\n",
    "        res = res + e.tolist()\n",
    "    return res\n",
    "\n",
    "topten_countries_names = extract_names(topten_countries_names) #Overwriting the array variable as a list\n",
    "\n",
    "\n",
    "#Market Segment and Distribution Channels\n",
    "market_segmentation = city[\"market_segment\"].describe()\n",
    "top_market = market_segmentation[2]\n",
    "top_market_share = market_segmentation[3]/market_segmentation[0]\n",
    "\n",
    "distribution_channels = city[\"distribution_channel\"].describe()\n",
    "top_distribution = distribution_channels[2]\n",
    "top_distribution_share = distribution_channels[3]/distribution_channels[0]\n",
    "\n",
    "#Identifying the most frequent occuring Travel Agencies\n",
    "top_three_agents = city[\"agent\"].value_counts(normalize = True).head(3).to_dict() #Into a dict to plot in bar chart"
   ]
  },
  {
   "cell_type": "markdown",
   "metadata": {},
   "source": [
    "# Plotting Segmentations"
   ]
  },
  {
   "cell_type": "code",
   "execution_count": 4,
   "metadata": {},
   "outputs": [
    {
     "ename": "NameError",
     "evalue": "name 'avg_cust' is not defined",
     "output_type": "error",
     "traceback": [
      "\u001b[1;31m---------------------------------------------------------------------------\u001b[0m",
      "\u001b[1;31mNameError\u001b[0m                                 Traceback (most recent call last)",
      "\u001b[1;32m<ipython-input-4-82863924cd68>\u001b[0m in \u001b[0;36m<module>\u001b[1;34m\u001b[0m\n\u001b[0;32m      1\u001b[0m \u001b[1;31m#Customer Demographics Bar Chart\u001b[0m\u001b[1;33m\u001b[0m\u001b[1;33m\u001b[0m\u001b[1;33m\u001b[0m\u001b[0m\n\u001b[1;32m----> 2\u001b[1;33m \u001b[0mplt\u001b[0m\u001b[1;33m.\u001b[0m\u001b[0mbar\u001b[0m\u001b[1;33m(\u001b[0m\u001b[1;33m[\u001b[0m\u001b[1;34m\"Adults\"\u001b[0m\u001b[1;33m,\u001b[0m \u001b[1;34m\"Children\"\u001b[0m\u001b[1;33m,\u001b[0m \u001b[1;34m\"Babies\"\u001b[0m\u001b[1;33m]\u001b[0m\u001b[1;33m,\u001b[0m\u001b[0mavg_cust\u001b[0m\u001b[1;33m)\u001b[0m\u001b[1;33m\u001b[0m\u001b[1;33m\u001b[0m\u001b[0m\n\u001b[0m\u001b[0;32m      3\u001b[0m \u001b[0mplt\u001b[0m\u001b[1;33m.\u001b[0m\u001b[0mylabel\u001b[0m\u001b[1;33m(\u001b[0m\u001b[1;34m\"Average Number per Booking\"\u001b[0m\u001b[1;33m)\u001b[0m\u001b[1;33m\u001b[0m\u001b[1;33m\u001b[0m\u001b[0m\n\u001b[0;32m      4\u001b[0m \u001b[0mplt\u001b[0m\u001b[1;33m.\u001b[0m\u001b[0mxlabel\u001b[0m\u001b[1;33m(\u001b[0m\u001b[1;34m\"Customer Type\"\u001b[0m\u001b[1;33m)\u001b[0m\u001b[1;33m\u001b[0m\u001b[1;33m\u001b[0m\u001b[0m\n\u001b[0;32m      5\u001b[0m \u001b[0mplt\u001b[0m\u001b[1;33m.\u001b[0m\u001b[0mtitle\u001b[0m\u001b[1;33m(\u001b[0m\u001b[1;34m\"Customer Demographics\"\u001b[0m\u001b[1;33m)\u001b[0m\u001b[1;33m\u001b[0m\u001b[1;33m\u001b[0m\u001b[0m\n",
      "\u001b[1;31mNameError\u001b[0m: name 'avg_cust' is not defined"
     ]
    }
   ],
   "source": [
    "#Customer Demographics Bar Chart\n",
    "plt.bar([\"Adults\", \"Children\", \"Babies\"],avg_cust)\n",
    "plt.ylabel(\"Average Number per Booking\")\n",
    "plt.xlabel(\"Customer Type\")\n",
    "plt.title(\"Customer Demographics\")\n",
    "plt.show()\n",
    "\n",
    "#Booking type Bar Chart\n",
    "plt.bar([\"Transient\", \"Contract\", \"Group\"],[per_of_transients*100, per_of_contracts*100, per_of_groups*100])\n",
    "plt.ylabel(\"Share of total Bookings(%)\")\n",
    "plt.xlabel(\"Booking Types\")\n",
    "plt.title(\"Customer Booking Type\")\n",
    "plt.show()\n",
    "\n",
    "#Distribution Channel Bar Chart\n",
    "ids = list(top_three_agents.keys())\n",
    "vals = list(top_three_agents.values())\n",
    "vals_percentage = [x*100 for x in vals] #to plot in percentages\n",
    "plt.bar(range(len(top_three_agents)), vals_percentage, tick_label = ids, align = \"center\")\n",
    "plt.ylabel(\"Share of total Distribution(%)\")\n",
    "plt.xlabel(\"Travel Agencies (No names available thus ids)\")\n",
    "plt.title(\"Most Bookings by Travel Agencies\")\n",
    "plt.savefig(\"travel_agencies.png\", dpi = 200)\n",
    "plt.show()\n",
    "\n",
    "#Country Bar Chart\n",
    "fig, ax = plt.subplots()\n",
    "ax.barh(topten_countries_names[::-1], topten_countries_sizes[::-1]) #Reversing to plot the bars in descending order\n",
    "\n",
    "for i in range(8,3,-1): #highlighting the top countries aside from number 1 portugal\n",
    "    ax.get_children()[i].set_color('orange')\n",
    "    \n",
    "ax.set(title = \"Top 10 occuring Countries\")\n",
    "plt.show()"
   ]
  },
  {
   "cell_type": "markdown",
   "metadata": {},
   "source": [
    "# Identify cancellation rate and analyzing potential reasons"
   ]
  },
  {
   "cell_type": "code",
   "execution_count": 7,
   "metadata": {},
   "outputs": [
    {
     "name": "stdout",
     "output_type": "stream",
     "text": [
      "Cancellation Rate: 41.79%\n",
      "roughly 3% below(!) the Average of 39%\n",
      "\n"
     ]
    },
    {
     "data": {
      "image/png": "[encoded data removed]",
      "text/plain": [
       "<Figure size 432x288 with 1 Axes>"
      ]
     },
     "metadata": {
      "needs_background": "light"
     },
     "output_type": "display_data"
    },
    {
     "name": "stdout",
     "output_type": "stream",
     "text": [
      "\n",
      "Wrong room assignments: 8.94%\n",
      "Reoccuring Guest rate: 2.5%\n",
      "The average according to a study done by Deliotte is about (!)8%\n"
     ]
    }
   ],
   "source": [
    "#Seperating data into relevant sets\n",
    "cancelations = city[city[\"is_canceled\"] == 1]\n",
    "non_cancels = city[city[\"is_canceled\"] == 0]\n",
    "cancel_rate = len(cancelations.index)/num_of_rows\n",
    "print(\"Cancellation Rate: \" + str(round(cancel_rate*100, 2)) + \"%\\nroughly 3% below(!) the Average of 39%\\n\")\n",
    "\n",
    "#Potential Reason1: Too much waiting time until confirmation\n",
    "wait_cancel = cancelations[\"days_in_waiting_list\"].sum()\n",
    "wait_non_cancel = non_cancels[\"days_in_waiting_list\"].sum()\n",
    "\n",
    "#Creating Dataframe with relevant data to plot\n",
    "waiting_days_df = pd.DataFrame({\n",
    "    \"cancelled\": wait_cancel,\n",
    "    \"non-cancelled\": wait_non_cancel\n",
    "}, index = [\"Total Accumulated Waiting Days\"])\n",
    "\n",
    "#Plotting to showcase the difference in values\n",
    "ax2 = waiting_days_df.plot.barh()\n",
    "plt.savefig(\"waiting_days.png\", dpi = 200,  bbox_inches='tight', pad_inches=0)\n",
    "plt.show()\n",
    "\n",
    "#Potential Reason2: Different room assignment than the one reserved\n",
    "correct_room_assignment = city.loc[city[\"assigned_room_type\"] == city[\"reserved_room_type\"]]\n",
    "assignment_rate = len(correct_room_assignment.index)/num_of_rows\n",
    "print(\"\\nWrong room assignments: \" + str(round((1-assignment_rate)*100, 2)) + \"%\")\n",
    "\n",
    "#Potential Reason3: There are marginal repeated guests --> no recommendations or returning\n",
    "repeated_guests_rate = len(city[city[\"is_repeated_guest\"] == 1])/num_of_rows\n",
    "print(\"Reoccuring Guest rate: \" + str(round(repeated_guests_rate*100, 2)) + \"%\\nThe average according to a study done by Deliotte is about (!)8%\")"
   ]
  },
  {
   "cell_type": "markdown",
   "metadata": {},
   "source": [
    "# Optimizing Daily Rates"
   ]
  },
  {
   "cell_type": "code",
   "execution_count": 8,
   "metadata": {},
   "outputs": [
    {
     "name": "stdout",
     "output_type": "stream",
     "text": [
      "Average Stay of a guest: 2.92 nights\n",
      "\n"
     ]
    },
    {
     "data": {
      "image/png": "[encoded data removed]",
      "text/plain": [
       "<Figure size 864x576 with 2 Axes>"
      ]
     },
     "metadata": {
      "needs_background": "light"
     },
     "output_type": "display_data"
    }
   ],
   "source": [
    "sum_stays = non_cancels[\"stays_in_week_nights\"] + non_cancels[\"stays_in_weekend_nights\"]\n",
    "#Dataframe with relevant data for analyzing daily rates\n",
    "totalstays_and_adr = non_cancels[[\"stays_in_week_nights\", \"stays_in_weekend_nights\",\"adr\"]].copy()\n",
    "totalstays_and_adr[\"total_stays\"] = sum_stays\n",
    "\n",
    "\n",
    "#Optimal Staying Length = maximum Average Daily Rate (sum of all lodging transaction / number of staying days)\n",
    "\n",
    "adr_per_numberofdays = totalstays_and_adr.groupby(\"total_stays\").sum() #grouping the frame by total stays and suming up the rates\n",
    "#Storing the average ADR corresponding to the specific number of total stays\n",
    "adr_per_numberofdays[\"avg_adr\"] = adr_per_numberofdays[\"adr\"]/(adr_per_numberofdays[\"stays_in_week_nights\"] + adr_per_numberofdays[\"stays_in_weekend_nights\"])\n",
    "#Normalized ADR based on the number of days\n",
    "adr_per_numberofdays[\"length_adr\"] = adr_per_numberofdays[\"avg_adr\"] * adr_per_numberofdays.index\n",
    "\n",
    "avg_rates = adr_per_numberofdays[\"length_adr\"].tolist()\n",
    "total_stays = adr_per_numberofdays.index.tolist()\n",
    "\n",
    "#Average stay of a guest\n",
    "avg_stay = totalstays_and_adr[\"total_stays\"].sum()/len(totalstays_and_adr.index)\n",
    "print(\"Average Stay of a guest: \" + str(round(avg_stay, 2)) + \" nights\\n\")\n",
    "\n",
    "#Creating a Dataframe with the relevant data to plot\n",
    "staying_lengths = list(totalstays_and_adr[\"total_stays\"].value_counts().index) #clusters total stays in groups(number of days)\n",
    "instances_per_length = list(totalstays_and_adr[\"total_stays\"].value_counts()) #same order as clusters but with their actual occurrances\n",
    "rel_instances_length =  totalstays_and_adr[\"total_stays\"].value_counts() / sum(instances_per_length) * 100 #Convert into Percentage\n",
    "rel_df = pd.DataFrame({\n",
    "    \"num_stays\": staying_lengths,\n",
    "    \"share_of_guests\": rel_instances_length\n",
    "})\n",
    "\n",
    "#Plotting the percentage of guests that booked certain number of nights\n",
    "fig3, (ax3, ax4) = plt.subplots(2, figsize = (12,8))\n",
    "fig3.subplots_adjust(hspace = 0.4)\n",
    "fig3.suptitle(\"Guest staying time and average daily returns\", fontsize = 16)\n",
    "ax3.set(title = \"Guests and Staying Time\")\n",
    "sns.barplot(x = \"num_stays\", y = \"share_of_guests\", data = rel_df, palette = [\"Orange\"], ax = ax3)\n",
    "\n",
    "#Plot the adr curve to see correltation between staying days and average daily rates\n",
    "ax4.set(xlabel = \"Staying Length in Days\", ylabel = \"Average ADR (€)\", title = \"Average daily rate based on staying length\")\n",
    "ax4.plot(total_stays, avg_rates,)\n",
    "plt.show()"
   ]
  },
  {
   "cell_type": "code",
   "execution_count": null,
   "metadata": {},
   "outputs": [],
   "source": []
  },
  {
   "cell_type": "code",
   "execution_count": null,
   "metadata": {},
   "outputs": [],
   "source": []
  }
 ],
 "metadata": {
  "kernelspec": {
   "display_name": "Python 3",
   "language": "python",
   "name": "python3"
  },
  "language_info": {
   "codemirror_mode": {
    "name": "ipython",
    "version": 3
   },
   "file_extension": ".py",
   "mimetype": "text/x-python",
   "name": "python",
   "nbconvert_exporter": "python",
   "pygments_lexer": "ipython3",
   "version": "3.7.4"
  }
 },
 "nbformat": 4,
 "nbformat_minor": 4
}
