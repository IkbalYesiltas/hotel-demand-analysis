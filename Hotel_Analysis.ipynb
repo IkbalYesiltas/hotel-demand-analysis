{
 "cells": [
  {
   "cell_type": "code",
   "execution_count": 2,
   "metadata": {},
   "outputs": [],
   "source": [
    "import pandas as pd\n",
    "import matplotlib.pyplot as plt"
   ]
  },
  {
   "cell_type": "code",
   "execution_count": 3,
   "metadata": {},
   "outputs": [],
   "source": [
    "data = pd.read_csv(\"datasets/hotel_bookings.csv\")"
   ]
  },
  {
   "cell_type": "code",
   "execution_count": 37,
   "metadata": {},
   "outputs": [],
   "source": [
    "resorts = data[data.hotel == \"Resort Hotel\"]\n",
    "resorts_len = len(resorts.index)"
   ]
  },
  {
   "cell_type": "code",
   "execution_count": 41,
   "metadata": {},
   "outputs": [],
   "source": [
    "city = data[data.hotel == \"City Hotel\"]\n",
    "city_len = len(city.index)"
   ]
  },
  {
   "cell_type": "code",
   "execution_count": 6,
   "metadata": {},
   "outputs": [],
   "source": [
    "#First the Resort Hotel\n"
   ]
  },
  {
   "cell_type": "code",
   "execution_count": 43,
   "metadata": {},
   "outputs": [],
   "source": [
    "#Identifying the number of Customer types\n",
    "r_adults = resorts[\"adults\"].sum()\n",
    "r_children = resorts[\"children\"].sum()\n",
    "r_babies = resorts[\"babies\"].sum()\n",
    "#Average customer constellation per Booking\n",
    "r_avg_cust = (r_adults/resorts_len, r_children/resorts_len, r_babies/resorts_len)\n",
    "#Percentage of Group Bookings\n",
    "r_numofgroups = len(resorts[resorts[\"customer_type\"] == \"Group\"].index)/resorts_len"
   ]
  },
  {
   "cell_type": "code",
   "execution_count": 39,
   "metadata": {},
   "outputs": [],
   "source": []
  }
 ],
 "metadata": {
  "kernelspec": {
   "display_name": "Python 3",
   "language": "python",
   "name": "python3"
  },
  "language_info": {
   "codemirror_mode": {
    "name": "ipython",
    "version": 3
   },
   "file_extension": ".py",
   "mimetype": "text/x-python",
   "name": "python",
   "nbconvert_exporter": "python",
   "pygments_lexer": "ipython3",
   "version": "3.7.4"
  }
 },
 "nbformat": 4,
 "nbformat_minor": 4
}
